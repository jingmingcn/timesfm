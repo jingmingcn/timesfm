{
 "cells": [
  {
   "cell_type": "code",
   "execution_count": null,
   "id": "ed1b3750-3713-464d-b9d3-5b723ecb85c0",
   "metadata": {},
   "outputs": [
    {
     "name": "stderr",
     "output_type": "stream",
     "text": [
      "/tmp/ipykernel_6460/1927648568.py:5: DtypeWarning: Columns (12) have mixed types. Specify dtype option on import or set low_memory=False.\n",
      "  df = pd.read_csv(\"raw_data.csv\", usecols=[\"county_code\",\"county\", \"disease\",\"long\",\"lat\",\"onset_date\",\"onset_year\"])\n"
     ]
    }
   ],
   "source": [
    "import pandas as pd\n",
    "import numpy as np\n",
    "import math\n",
    "\n",
    "df = pd.read_csv(\"raw_data.csv\", usecols=[\"county_code\",\"county\", \"disease\",\"long\",\"lat\",\"onset_date\",\"onset_year\"])\n",
    "df = df[df['county']!='未知']\n",
    "df = df[df['onset_year']!='#VALUE!']\n",
    "df = df[df['onset_date']!='NA']\n",
    "df = df.sort_values(by=['disease','county','onset_date'])\n",
    "df[\"onset_year\"] = df[\"onset_year\"].apply(lambda x: int(x))\n",
    "df['onset_date'] = pd.to_datetime(df['onset_date'],format='%Y-%m-%d')\n",
    "\n",
    "diseases = df['disease'].unique()\n",
    "counties = df['county'].unique()\n",
    "\n",
    "df_counties = df[['county','long','lat']].drop_duplicates()\n",
    "df_counties.to_csv('df_counties.csv',index=False)\n",
    "\n",
    "df = df.value_counts(subset=['disease','county','onset_date']).reset_index(name='value')\n"
   ]
  },
  {
   "cell_type": "code",
   "execution_count": 2,
   "id": "d2909c92",
   "metadata": {},
   "outputs": [
    {
     "data": {
      "application/vnd.jupyter.widget-view+json": {
       "model_id": "d2becd4111e74aaaab8dbfbcc4a46d5e",
       "version_major": 2,
       "version_minor": 0
      },
      "text/plain": [
       "  0%|          | 0/134 [00:00<?, ?it/s]"
      ]
     },
     "metadata": {},
     "output_type": "display_data"
    }
   ],
   "source": [
    "import math\n",
    "from tqdm.notebook import tqdm\n",
    "\n",
    "distance_data = {'source':[], 'target':[], 'distance':[]}\n",
    "for source in tqdm(counties):\n",
    "    for target in counties:\n",
    "        if source != target:\n",
    "            df_t1 = df_counties[df_counties['county']==source]\n",
    "            df_t2 = df_counties[df_counties['county']==target]\n",
    "            x1 = df_t1['long'].values[0]\n",
    "            y1 = df_t1['lat'].values[0]\n",
    "            x2 = df_t2['long'].values[0]\n",
    "            y2 = df_t2['lat'].values[0]\n",
    "            distance = math.dist([x1,y1],[x2,y2])\n",
    "            distance_data['source'].append(source)\n",
    "            distance_data['target'].append(target)\n",
    "            distance_data['distance'].append(distance)\n",
    "        else:\n",
    "            distance_data['source'].append(source)\n",
    "            distance_data['target'].append(target)\n",
    "            distance_data['distance'].append(1)\n",
    "\n",
    "df_distance = pd.DataFrame(data=distance_data)\n",
    "df_distance = df_distance.sort_values(by=['source','target'])\n",
    "df_distance.to_csv('distance_data.csv', index=False)"
   ]
  },
  {
   "cell_type": "code",
   "execution_count": 3,
   "id": "673f3fd7",
   "metadata": {},
   "outputs": [
    {
     "data": {
      "application/vnd.jupyter.widget-view+json": {
       "model_id": "74f9faed1de54f4bb7839509bdaf2f9d",
       "version_major": 2,
       "version_minor": 0
      },
      "text/plain": [
       "  0%|          | 0/6 [00:00<?, ?it/s]"
      ]
     },
     "metadata": {},
     "output_type": "display_data"
    },
    {
     "data": {
      "application/vnd.jupyter.widget-view+json": {
       "model_id": "7def057f92324967b29823642d3e8225",
       "version_major": 2,
       "version_minor": 0
      },
      "text/plain": [
       "  0%|          | 0/134 [00:00<?, ?it/s]"
      ]
     },
     "metadata": {},
     "output_type": "display_data"
    },
    {
     "data": {
      "application/vnd.jupyter.widget-view+json": {
       "model_id": "e1ad8901dfb44d26a1b2957fb072d53e",
       "version_major": 2,
       "version_minor": 0
      },
      "text/plain": [
       "  0%|          | 0/134 [00:00<?, ?it/s]"
      ]
     },
     "metadata": {},
     "output_type": "display_data"
    },
    {
     "data": {
      "application/vnd.jupyter.widget-view+json": {
       "model_id": "39d40441be7541d199a99ceec77d6945",
       "version_major": 2,
       "version_minor": 0
      },
      "text/plain": [
       "  0%|          | 0/134 [00:00<?, ?it/s]"
      ]
     },
     "metadata": {},
     "output_type": "display_data"
    },
    {
     "data": {
      "application/vnd.jupyter.widget-view+json": {
       "model_id": "5528bfe5c9ea4feca21edfd74ff9aa50",
       "version_major": 2,
       "version_minor": 0
      },
      "text/plain": [
       "  0%|          | 0/134 [00:00<?, ?it/s]"
      ]
     },
     "metadata": {},
     "output_type": "display_data"
    },
    {
     "data": {
      "application/vnd.jupyter.widget-view+json": {
       "model_id": "61b389250f4744f5ab521813afc03b27",
       "version_major": 2,
       "version_minor": 0
      },
      "text/plain": [
       "  0%|          | 0/134 [00:00<?, ?it/s]"
      ]
     },
     "metadata": {},
     "output_type": "display_data"
    },
    {
     "data": {
      "application/vnd.jupyter.widget-view+json": {
       "model_id": "becab576c688416b86ca63cc7ae88cc4",
       "version_major": 2,
       "version_minor": 0
      },
      "text/plain": [
       "  0%|          | 0/134 [00:00<?, ?it/s]"
      ]
     },
     "metadata": {},
     "output_type": "display_data"
    }
   ],
   "source": [
    "from datetime import datetime, timedelta\n",
    "import math\n",
    "from tqdm.notebook import tqdm\n",
    "\n",
    "raw_day_data = {\n",
    "    'disease':[],\n",
    "    'county':[],\n",
    "    'onset_date':[],\n",
    "    'value':[],\n",
    "    'last_7_days':[],\n",
    "    'last_7_days_neighbor':[]\n",
    "}\n",
    "\n",
    "\n",
    "for disease in tqdm(diseases):\n",
    "    start_date = df[df['disease']==disease]['onset_date'].min()\n",
    "    end_date = df[df['disease']==disease]['onset_date'].max()\n",
    "    \n",
    "    for county in tqdm(counties):\n",
    "\n",
    "        df_temp = df[(df['county']==county) & (df['disease']==disease)]\n",
    "        \n",
    "        if df_temp.empty:\n",
    "            days = (end_date-start_date).days+1\n",
    "            raw_day_data['disease'].extend([disease]*days)\n",
    "            raw_day_data['county'].extend([county]*days)\n",
    "            raw_day_data['onset_date'].extend(pd.date_range(start_date,end_date).to_list())\n",
    "            raw_day_data['value'].extend([0]*days)\n",
    "            raw_day_data['last_7_days'].extend([0]*days)\n",
    "            raw_day_data['last_7_days_neighbor'].extend([0]*days)\n",
    "        else:\n",
    "            for onset_date in pd.date_range(start_date,end_date).to_list():\n",
    "                \n",
    "                start_last_7_days = onset_date + timedelta(days=-14)\n",
    "                end_last_7_days = onset_date + timedelta(days=-7)\n",
    "                \n",
    "                value = df_temp[df_temp['onset_date']==onset_date]['value'].sum()\n",
    "            \n",
    "                last_7_days = df_temp[(df_temp['onset_date']<end_last_7_days) & (df_temp['onset_date']>=start_last_7_days)]['value'].sum()\n",
    "                \n",
    "                raw_day_data['disease'].append(disease)\n",
    "                raw_day_data['county'].append(county)\n",
    "                raw_day_data['onset_date'].append(onset_date)\n",
    "                raw_day_data['value'].append(value)\n",
    "                raw_day_data['last_7_days'].append(last_7_days)\n",
    "                raw_day_data['last_7_days_neighbor'].append(0)\n",
    "\n",
    "df_day = pd.DataFrame(data=raw_day_data)\n",
    "df_day = df_day.sort_values(by=['disease','county','onset_date'])\n",
    "\n",
    "df_day.to_csv('raw_day_data_no_neighbor.csv', index=False)\n"
   ]
  },
  {
   "cell_type": "code",
   "execution_count": 4,
   "id": "b9413127",
   "metadata": {},
   "outputs": [
    {
     "data": {
      "application/vnd.jupyter.widget-view+json": {
       "model_id": "16c25e5eb3a746fb9b36e9906e61bd6d",
       "version_major": 2,
       "version_minor": 0
      },
      "text/plain": [
       "  0%|          | 0/6 [00:00<?, ?it/s]"
      ]
     },
     "metadata": {},
     "output_type": "display_data"
    },
    {
     "data": {
      "application/vnd.jupyter.widget-view+json": {
       "model_id": "98783f1f01f4443cb856c273068f9625",
       "version_major": 2,
       "version_minor": 0
      },
      "text/plain": [
       "  0%|          | 0/134 [00:00<?, ?it/s]"
      ]
     },
     "metadata": {},
     "output_type": "display_data"
    },
    {
     "name": "stderr",
     "output_type": "stream",
     "text": [
      "/tmp/ipykernel_6460/771551218.py:20: FutureWarning: Setting an item of incompatible dtype is deprecated and will raise an error in a future version of pandas. Value '[2.49893135 0.         0.         ... 0.20487921 0.         0.17282616]' has dtype incompatible with int64, please explicitly cast to a compatible dtype first.\n",
      "  df_day.loc[(df_day['county']==county) & (df_day['disease']==disease),'last_7_days_neighbor'] = last_7_days_neighbor\n"
     ]
    },
    {
     "data": {
      "application/vnd.jupyter.widget-view+json": {
       "model_id": "6d4ce18e8000431abf4a5d8ab02109ed",
       "version_major": 2,
       "version_minor": 0
      },
      "text/plain": [
       "  0%|          | 0/134 [00:00<?, ?it/s]"
      ]
     },
     "metadata": {},
     "output_type": "display_data"
    },
    {
     "data": {
      "application/vnd.jupyter.widget-view+json": {
       "model_id": "4ee47f56c9a34dc4878ed8847a9af816",
       "version_major": 2,
       "version_minor": 0
      },
      "text/plain": [
       "  0%|          | 0/134 [00:00<?, ?it/s]"
      ]
     },
     "metadata": {},
     "output_type": "display_data"
    },
    {
     "data": {
      "application/vnd.jupyter.widget-view+json": {
       "model_id": "b328f07fd2704136b877f3157013a8f3",
       "version_major": 2,
       "version_minor": 0
      },
      "text/plain": [
       "  0%|          | 0/134 [00:00<?, ?it/s]"
      ]
     },
     "metadata": {},
     "output_type": "display_data"
    },
    {
     "data": {
      "application/vnd.jupyter.widget-view+json": {
       "model_id": "43379a353aa4416e9135cc57497b5cab",
       "version_major": 2,
       "version_minor": 0
      },
      "text/plain": [
       "  0%|          | 0/134 [00:00<?, ?it/s]"
      ]
     },
     "metadata": {},
     "output_type": "display_data"
    },
    {
     "data": {
      "application/vnd.jupyter.widget-view+json": {
       "model_id": "5893c619a38b42b8bdeb2e8a23d626b3",
       "version_major": 2,
       "version_minor": 0
      },
      "text/plain": [
       "  0%|          | 0/134 [00:00<?, ?it/s]"
      ]
     },
     "metadata": {},
     "output_type": "display_data"
    }
   ],
   "source": [
    "df_day = pd.read_csv('raw_day_data_no_neighbor.csv')\n",
    "\n",
    "df_day['onset_date'] = pd.to_datetime(df_day['onset_date'],format='%Y-%m-%d')\n",
    "\n",
    "for disease in tqdm(diseases):\n",
    "    df_day_disease = df_day[df_day['disease']==disease]\n",
    "    start_date = df_day_disease['onset_date'].min()\n",
    "    end_date = df_day_disease['onset_date'].max()\n",
    "    n_counties = len(counties)\n",
    "    n_days = (end_date-start_date).days+1\n",
    "    for county in tqdm(counties):\n",
    "        df_temp = df_day_disease[(df_day_disease['county']==county)]\n",
    "        distances = df_distance.loc[df_distance['source']==county,'distance'].to_numpy()\n",
    "        \n",
    "        last_7_days = df_day_disease['value'].to_numpy()\n",
    "        last_7_days = np.reshape(last_7_days,(n_days,n_counties),order='F')\n",
    "       \n",
    "        last_7_days_neighbor = np.sum(last_7_days/distances, axis=1)\n",
    "\n",
    "        df_day.loc[(df_day['county']==county) & (df_day['disease']==disease),'last_7_days_neighbor'] = last_7_days_neighbor\n",
    "\n",
    "\n",
    "df_day.to_csv('raw_day_data.csv', index=False)"
   ]
  }
 ],
 "metadata": {
  "kernelspec": {
   "display_name": "timesfm[torch]",
   "language": "python",
   "name": "python3"
  },
  "language_info": {
   "codemirror_mode": {
    "name": "ipython",
    "version": 3
   },
   "file_extension": ".py",
   "mimetype": "text/x-python",
   "name": "python",
   "nbconvert_exporter": "python",
   "pygments_lexer": "ipython3",
   "version": "3.11.11"
  }
 },
 "nbformat": 4,
 "nbformat_minor": 5
}
