{
 "cells": [
  {
   "cell_type": "code",
   "execution_count": null,
   "id": "ed1b3750-3713-464d-b9d3-5b723ecb85c0",
   "metadata": {},
   "outputs": [
    {
     "name": "stdout",
     "output_type": "stream",
     "text": [
      "(134,)\n",
      "(135,)\n"
     ]
    },
    {
     "name": "stderr",
     "output_type": "stream",
     "text": [
      "/tmp/ipykernel_650800/2547536098.py:5: DtypeWarning: Columns (12) have mixed types. Specify dtype option on import or set low_memory=False.\n",
      "  df = pd.read_csv(\"raw_data.csv\", usecols=[\"county_code\",\"county\", \"disease\",\"long\",\"lat\",\"onset_date\",\"onset_year\"])\n"
     ]
    }
   ],
   "source": [
    "import pandas as pd\n",
    "import numpy as np\n",
    "import math\n",
    "\n",
    "df = pd.read_csv(\"raw_data.csv\", usecols=[\"county_code\",\"county\", \"disease\",\"long\",\"lat\",\"onset_date\",\"onset_year\"])\n",
    "df = df[df['county']!='未知']\n",
    "df = df[df['onset_year']!='#VALUE!']\n",
    "df = df[df['onset_date']!='NA']\n",
    "df = df.sort_values(by=['disease','county','onset_date'])\n",
    "df[\"onset_year\"] = df[\"onset_year\"].apply(lambda x: int(x))\n",
    "df['onset_date'] = pd.to_datetime(df['onset_date'],format='%Y-%m-%d')\n",
    "\n",
    "diseases = df['disease'].unique()\n",
    "counties = df['county'].unique()\n",
    "county_codes = df['county_code'].unique()\n",
    "\n",
    "df_counties = df[['county','long','lat']].drop_duplicates()\n",
    "df_counties.to_csv('df_counties.csv',index=False)\n",
    "\n",
    "df = df.value_counts(subset=['disease','county','onset_date']).reset_index(name='value')\n"
   ]
  },
  {
   "cell_type": "code",
   "execution_count": 2,
   "id": "7e4ec1f7",
   "metadata": {},
   "outputs": [
    {
     "data": {
      "text/plain": [
       "array(['发热伴', '布鲁氏菌病', '手足口', '猩红热', '百日咳', '肾综合'], dtype=object)"
      ]
     },
     "execution_count": 2,
     "metadata": {},
     "output_type": "execute_result"
    }
   ],
   "source": [
    "diseases"
   ]
  },
  {
   "cell_type": "code",
   "execution_count": 7,
   "id": "d2909c92",
   "metadata": {},
   "outputs": [
    {
     "data": {
      "application/vnd.jupyter.widget-view+json": {
       "model_id": "eb2f25e4d5f248d485582bd98b7bb733",
       "version_major": 2,
       "version_minor": 0
      },
      "text/plain": [
       "  0%|          | 0/134 [00:00<?, ?it/s]"
      ]
     },
     "metadata": {},
     "output_type": "display_data"
    }
   ],
   "source": [
    "import math\n",
    "from tqdm.notebook import tqdm\n",
    "\n",
    "distance_data = {'source':[], 'target':[], 'distance':[]}\n",
    "for source in tqdm(counties):\n",
    "    for target in counties:\n",
    "        if source != target:\n",
    "            df_t1 = df_counties[df_counties['county']==source]\n",
    "            df_t2 = df_counties[df_counties['county']==target]\n",
    "            x1 = df_t1['long'].values[0]\n",
    "            y1 = df_t1['lat'].values[0]\n",
    "            x2 = df_t2['long'].values[0]\n",
    "            y2 = df_t2['lat'].values[0]\n",
    "            distance = math.dist([x1,y1],[x2,y2])\n",
    "            distance_data['source'].append(source)\n",
    "            distance_data['target'].append(target)\n",
    "            distance_data['distance'].append(distance)\n",
    "        else:\n",
    "            distance_data['source'].append(source)\n",
    "            distance_data['target'].append(target)\n",
    "            distance_data['distance'].append(0.1)\n",
    "\n",
    "df_distance = pd.DataFrame(data=distance_data)\n",
    "df_distance = df_distance.sort_values(by=['source','target'])\n",
    "df_distance.to_csv('distance_data.csv', index=False)"
   ]
  },
  {
   "cell_type": "code",
   "execution_count": 9,
   "id": "673f3fd7",
   "metadata": {},
   "outputs": [
    {
     "data": {
      "application/vnd.jupyter.widget-view+json": {
       "model_id": "dd9234c7b88a4931b8d47a187024bf92",
       "version_major": 2,
       "version_minor": 0
      },
      "text/plain": [
       "  0%|          | 0/6 [00:00<?, ?it/s]"
      ]
     },
     "metadata": {},
     "output_type": "display_data"
    },
    {
     "data": {
      "application/vnd.jupyter.widget-view+json": {
       "model_id": "8d0a6d7b69b74369a9e81751b2c7d6fc",
       "version_major": 2,
       "version_minor": 0
      },
      "text/plain": [
       "  0%|          | 0/134 [00:00<?, ?it/s]"
      ]
     },
     "metadata": {},
     "output_type": "display_data"
    },
    {
     "data": {
      "application/vnd.jupyter.widget-view+json": {
       "model_id": "f05ec41514b0401fbb6f3bf8eaeb4909",
       "version_major": 2,
       "version_minor": 0
      },
      "text/plain": [
       "  0%|          | 0/134 [00:00<?, ?it/s]"
      ]
     },
     "metadata": {},
     "output_type": "display_data"
    },
    {
     "data": {
      "application/vnd.jupyter.widget-view+json": {
       "model_id": "1aa0fad836224cf49e8f89654f9928e3",
       "version_major": 2,
       "version_minor": 0
      },
      "text/plain": [
       "  0%|          | 0/134 [00:00<?, ?it/s]"
      ]
     },
     "metadata": {},
     "output_type": "display_data"
    },
    {
     "data": {
      "application/vnd.jupyter.widget-view+json": {
       "model_id": "f921ff171b28451d8f53a0b52766927b",
       "version_major": 2,
       "version_minor": 0
      },
      "text/plain": [
       "  0%|          | 0/134 [00:00<?, ?it/s]"
      ]
     },
     "metadata": {},
     "output_type": "display_data"
    },
    {
     "data": {
      "application/vnd.jupyter.widget-view+json": {
       "model_id": "7fa8db38c90747388637d185acf2f02c",
       "version_major": 2,
       "version_minor": 0
      },
      "text/plain": [
       "  0%|          | 0/134 [00:00<?, ?it/s]"
      ]
     },
     "metadata": {},
     "output_type": "display_data"
    },
    {
     "data": {
      "application/vnd.jupyter.widget-view+json": {
       "model_id": "e3b59c4533cb49fc809301645fb7131d",
       "version_major": 2,
       "version_minor": 0
      },
      "text/plain": [
       "  0%|          | 0/134 [00:00<?, ?it/s]"
      ]
     },
     "metadata": {},
     "output_type": "display_data"
    }
   ],
   "source": [
    "from datetime import datetime, timedelta\n",
    "import math\n",
    "from tqdm.notebook import tqdm\n",
    "\n",
    "raw_day_data = {\n",
    "    'disease':[],\n",
    "    'county':[],\n",
    "    'onset_date':[],\n",
    "    'value':[],\n",
    "    'last_n_days':[],\n",
    "    'last_n_days_neighbor':[]\n",
    "}\n",
    "\n",
    "latent_periods = {\n",
    "    '发热伴':14, \n",
    "    '布鲁氏菌病':21, \n",
    "    '手足口':7, \n",
    "    '猩红热':7, \n",
    "    '百日咳':21, \n",
    "    '肾综合':14\n",
    "}\n",
    "\n",
    "\n",
    "for disease in tqdm(diseases):\n",
    "    start_date = df[df['disease']==disease]['onset_date'].min()\n",
    "    start_date = start_date + timedelta(days=(7-start_date.weekday())%7)\n",
    "    end_date = df[df['disease']==disease]['onset_date'].max()\n",
    "    end_date = end_date + timedelta(days=-end_date.isoweekday()%7)\n",
    "    n_days = latent_periods[disease]\n",
    "    days = (end_date-start_date).days+1\n",
    "\n",
    "    for county in tqdm(counties):\n",
    "\n",
    "        df_temp = df[(df['county']==county) & (df['disease']==disease)]\n",
    "        \n",
    "        if df_temp.empty:\n",
    "            raw_day_data['disease'].extend([disease]*days)\n",
    "            raw_day_data['county'].extend([county]*days)\n",
    "            raw_day_data['onset_date'].extend(pd.date_range(start_date,end_date).to_list())\n",
    "            raw_day_data['value'].extend([0]*days)\n",
    "            raw_day_data['last_n_days'].extend([0]*days)\n",
    "            raw_day_data['last_n_days_neighbor'].extend([0]*days)\n",
    "        else:\n",
    "            for onset_date in pd.date_range(start_date,end_date).to_list():\n",
    "                \n",
    "                start_last_n_days = onset_date + timedelta(days=-7-n_days)\n",
    "                end_last_n_days = onset_date + timedelta(days=-7)\n",
    "                \n",
    "                value = df_temp[df_temp['onset_date']==onset_date]['value'].sum()\n",
    "            \n",
    "                last_n_days = df_temp[(df_temp['onset_date']<end_last_n_days) & (df_temp['onset_date']>=start_last_n_days)]['value'].sum()\n",
    "                \n",
    "                raw_day_data['disease'].append(disease)\n",
    "                raw_day_data['county'].append(county)\n",
    "                raw_day_data['onset_date'].append(onset_date)\n",
    "                raw_day_data['value'].append(value)\n",
    "                raw_day_data['last_n_days'].append(last_n_days)\n",
    "                raw_day_data['last_n_days_neighbor'].append(0)\n",
    "\n",
    "df_day = pd.DataFrame(data=raw_day_data)\n",
    "df_day = df_day.sort_values(by=['disease','county','onset_date'])\n",
    "\n",
    "df_day.to_csv('raw_day_data_no_neighbor.csv', index=False)\n"
   ]
  },
  {
   "cell_type": "code",
   "execution_count": 10,
   "id": "b9413127",
   "metadata": {},
   "outputs": [
    {
     "data": {
      "application/vnd.jupyter.widget-view+json": {
       "model_id": "ea31e36f394d4643b1928f22380e14ba",
       "version_major": 2,
       "version_minor": 0
      },
      "text/plain": [
       "  0%|          | 0/6 [00:00<?, ?it/s]"
      ]
     },
     "metadata": {},
     "output_type": "display_data"
    },
    {
     "data": {
      "application/vnd.jupyter.widget-view+json": {
       "model_id": "24fd6073068c403aa1b107806dcd9d31",
       "version_major": 2,
       "version_minor": 0
      },
      "text/plain": [
       "  0%|          | 0/134 [00:00<?, ?it/s]"
      ]
     },
     "metadata": {},
     "output_type": "display_data"
    },
    {
     "name": "stderr",
     "output_type": "stream",
     "text": [
      "/tmp/ipykernel_650800/2192157579.py:20: FutureWarning: Setting an item of incompatible dtype is deprecated and will raise an error in a future version of pandas. Value '[0. 0. 0. ... 0. 0. 0.]' has dtype incompatible with int64, please explicitly cast to a compatible dtype first.\n",
      "  df_day.loc[(df_day['county']==county) & (df_day['disease']==disease),'last_n_days_neighbor'] = last_n_days_neighbor\n"
     ]
    },
    {
     "data": {
      "application/vnd.jupyter.widget-view+json": {
       "model_id": "c6e963e1e0b64b8388844f80850b5b2e",
       "version_major": 2,
       "version_minor": 0
      },
      "text/plain": [
       "  0%|          | 0/134 [00:00<?, ?it/s]"
      ]
     },
     "metadata": {},
     "output_type": "display_data"
    },
    {
     "data": {
      "application/vnd.jupyter.widget-view+json": {
       "model_id": "e450eb3f19ef461c8cfcda7a401f5f2f",
       "version_major": 2,
       "version_minor": 0
      },
      "text/plain": [
       "  0%|          | 0/134 [00:00<?, ?it/s]"
      ]
     },
     "metadata": {},
     "output_type": "display_data"
    },
    {
     "data": {
      "application/vnd.jupyter.widget-view+json": {
       "model_id": "e063ac0a44aa422bb48d9092a1ae6960",
       "version_major": 2,
       "version_minor": 0
      },
      "text/plain": [
       "  0%|          | 0/134 [00:00<?, ?it/s]"
      ]
     },
     "metadata": {},
     "output_type": "display_data"
    },
    {
     "data": {
      "application/vnd.jupyter.widget-view+json": {
       "model_id": "fbc71289061e43d7903fe2a2eaa2d256",
       "version_major": 2,
       "version_minor": 0
      },
      "text/plain": [
       "  0%|          | 0/134 [00:00<?, ?it/s]"
      ]
     },
     "metadata": {},
     "output_type": "display_data"
    },
    {
     "data": {
      "application/vnd.jupyter.widget-view+json": {
       "model_id": "39fff7b35fe641d090e4103f8992987b",
       "version_major": 2,
       "version_minor": 0
      },
      "text/plain": [
       "  0%|          | 0/134 [00:00<?, ?it/s]"
      ]
     },
     "metadata": {},
     "output_type": "display_data"
    }
   ],
   "source": [
    "df_day = pd.read_csv('raw_day_data_no_neighbor.csv')\n",
    "\n",
    "df_day['onset_date'] = pd.to_datetime(df_day['onset_date'],format='%Y-%m-%d')\n",
    "\n",
    "for disease in tqdm(diseases):\n",
    "    df_day_disease = df_day[df_day['disease']==disease]\n",
    "    start_date = df_day_disease['onset_date'].min()\n",
    "    end_date = df_day_disease['onset_date'].max()\n",
    "    n_counties = len(counties)\n",
    "    n_days = (end_date-start_date).days+1\n",
    "    for county in tqdm(counties):\n",
    "        df_temp = df_day_disease[(df_day_disease['county']==county)]\n",
    "        distances = df_distance.loc[df_distance['source']==county,'distance'].to_numpy()\n",
    "        \n",
    "        last_n_days = df_day_disease['value'].to_numpy()\n",
    "        last_n_days = np.reshape(last_n_days,(n_days,n_counties),order='F')\n",
    "       \n",
    "        last_n_days_neighbor = np.sum(last_n_days/distances, axis=1)\n",
    "\n",
    "        df_day.loc[(df_day['county']==county) & (df_day['disease']==disease),'last_n_days_neighbor'] = last_n_days_neighbor\n",
    "\n",
    "\n",
    "df_day.to_csv('raw_day_data.csv', index=False)"
   ]
  },
  {
   "cell_type": "code",
   "execution_count": null,
   "id": "1891ee32",
   "metadata": {},
   "outputs": [
    {
     "data": {
      "text/html": [
       "<div>\n",
       "<style scoped>\n",
       "    .dataframe tbody tr th:only-of-type {\n",
       "        vertical-align: middle;\n",
       "    }\n",
       "\n",
       "    .dataframe tbody tr th {\n",
       "        vertical-align: top;\n",
       "    }\n",
       "\n",
       "    .dataframe thead th {\n",
       "        text-align: right;\n",
       "    }\n",
       "</style>\n",
       "<table border=\"1\" class=\"dataframe\">\n",
       "  <thead>\n",
       "    <tr style=\"text-align: right;\">\n",
       "      <th></th>\n",
       "      <th>disease</th>\n",
       "      <th>county</th>\n",
       "      <th>year</th>\n",
       "      <th>value</th>\n",
       "    </tr>\n",
       "  </thead>\n",
       "  <tbody>\n",
       "    <tr>\n",
       "      <th>0</th>\n",
       "      <td>发热伴</td>\n",
       "      <td>东平县</td>\n",
       "      <td>2013</td>\n",
       "      <td>0</td>\n",
       "    </tr>\n",
       "    <tr>\n",
       "      <th>1</th>\n",
       "      <td>发热伴</td>\n",
       "      <td>东平县</td>\n",
       "      <td>2014</td>\n",
       "      <td>2</td>\n",
       "    </tr>\n",
       "    <tr>\n",
       "      <th>2</th>\n",
       "      <td>发热伴</td>\n",
       "      <td>东平县</td>\n",
       "      <td>2015</td>\n",
       "      <td>0</td>\n",
       "    </tr>\n",
       "    <tr>\n",
       "      <th>3</th>\n",
       "      <td>发热伴</td>\n",
       "      <td>东平县</td>\n",
       "      <td>2016</td>\n",
       "      <td>0</td>\n",
       "    </tr>\n",
       "    <tr>\n",
       "      <th>4</th>\n",
       "      <td>发热伴</td>\n",
       "      <td>东平县</td>\n",
       "      <td>2017</td>\n",
       "      <td>3</td>\n",
       "    </tr>\n",
       "  </tbody>\n",
       "</table>\n",
       "</div>"
      ],
      "text/plain": [
       "  disease county  year  value\n",
       "0     发热伴    东平县  2013      0\n",
       "1     发热伴    东平县  2014      2\n",
       "2     发热伴    东平县  2015      0\n",
       "3     发热伴    东平县  2016      0\n",
       "4     发热伴    东平县  2017      3"
      ]
     },
     "execution_count": 4,
     "metadata": {},
     "output_type": "execute_result"
    }
   ],
   "source": [
    "import pandas as pd\n",
    "df_day = pd.read_csv('raw_day_data.csv')\n",
    "\n",
    "df_day['onset_date'] = pd.to_datetime(df_day['onset_date'],format='%Y-%m-%d')\n",
    "\n",
    "df_day['year'] = df_day['onset_date'].dt.year\n",
    "df_day['month'] = df_day['onset_date'].dt.month\n",
    "\n",
    "df_year = df_day.groupby(['disease','county','year'])['value'].sum().reset_index(name='value')\n",
    "\n"
   ]
  },
  {
   "cell_type": "code",
   "execution_count": 7,
   "id": "c9fc8c30",
   "metadata": {},
   "outputs": [
    {
     "data": {
      "text/html": [
       "<div>\n",
       "<style scoped>\n",
       "    .dataframe tbody tr th:only-of-type {\n",
       "        vertical-align: middle;\n",
       "    }\n",
       "\n",
       "    .dataframe tbody tr th {\n",
       "        vertical-align: top;\n",
       "    }\n",
       "\n",
       "    .dataframe thead th {\n",
       "        text-align: right;\n",
       "    }\n",
       "</style>\n",
       "<table border=\"1\" class=\"dataframe\">\n",
       "  <thead>\n",
       "    <tr style=\"text-align: right;\">\n",
       "      <th></th>\n",
       "      <th>disease</th>\n",
       "      <th>county</th>\n",
       "      <th>year</th>\n",
       "      <th>value</th>\n",
       "    </tr>\n",
       "  </thead>\n",
       "  <tbody>\n",
       "    <tr>\n",
       "      <th>4284</th>\n",
       "      <td>手足口</td>\n",
       "      <td>市北区</td>\n",
       "      <td>2023</td>\n",
       "      <td>2582</td>\n",
       "    </tr>\n",
       "    <tr>\n",
       "      <th>4148</th>\n",
       "      <td>手足口</td>\n",
       "      <td>城阳区</td>\n",
       "      <td>2023</td>\n",
       "      <td>2472</td>\n",
       "    </tr>\n",
       "    <tr>\n",
       "      <th>4092</th>\n",
       "      <td>手足口</td>\n",
       "      <td>历城区</td>\n",
       "      <td>2023</td>\n",
       "      <td>2156</td>\n",
       "    </tr>\n",
       "    <tr>\n",
       "      <th>4452</th>\n",
       "      <td>手足口</td>\n",
       "      <td>李沧区</td>\n",
       "      <td>2023</td>\n",
       "      <td>1931</td>\n",
       "    </tr>\n",
       "    <tr>\n",
       "      <th>4940</th>\n",
       "      <td>手足口</td>\n",
       "      <td>黄岛区</td>\n",
       "      <td>2023</td>\n",
       "      <td>1587</td>\n",
       "    </tr>\n",
       "  </tbody>\n",
       "</table>\n",
       "</div>"
      ],
      "text/plain": [
       "     disease county  year  value\n",
       "4284     手足口    市北区  2023   2582\n",
       "4148     手足口    城阳区  2023   2472\n",
       "4092     手足口    历城区  2023   2156\n",
       "4452     手足口    李沧区  2023   1931\n",
       "4940     手足口    黄岛区  2023   1587"
      ]
     },
     "execution_count": 7,
     "metadata": {},
     "output_type": "execute_result"
    }
   ],
   "source": [
    "df_year.sort_values(by=['value'],ascending=False).head(5)"
   ]
  }
 ],
 "metadata": {
  "kernelspec": {
   "display_name": "timesfm-torch",
   "language": "python",
   "name": "timesfm-torch"
  },
  "language_info": {
   "codemirror_mode": {
    "name": "ipython",
    "version": 3
   },
   "file_extension": ".py",
   "mimetype": "text/x-python",
   "name": "python",
   "nbconvert_exporter": "python",
   "pygments_lexer": "ipython3",
   "version": "3.11.11"
  }
 },
 "nbformat": 4,
 "nbformat_minor": 5
}
